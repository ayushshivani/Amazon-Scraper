{
 "cells": [
  {
   "cell_type": "code",
   "execution_count": 2,
   "metadata": {},
   "outputs": [
    {
     "data": {
      "text/plain": [
       "['Patio,',\n",
       " 'Lawn',\n",
       " '&',\n",
       " 'Garden',\n",
       " '(See',\n",
       " 'Top',\n",
       " '100',\n",
       " 'Patio,',\n",
       " 'Lawn',\n",
       " '&',\n",
       " 'Garden)',\n",
       " 'Pet',\n",
       " 'Supplies',\n",
       " '>',\n",
       " 'Birds',\n",
       " '>',\n",
       " 'Cages',\n",
       " '&',\n",
       " 'Accessories',\n",
       " '>',\n",
       " 'Bird',\n",
       " 'Baths']"
      ]
     },
     "execution_count": 2,
     "metadata": {},
     "output_type": "execute_result"
    }
   ],
   "source": [
    "['Patio,', 'Lawn', '&', 'Garden', '(See', 'Top', '100', 'Patio,', 'Lawn', '&', 'Garden)', 'Pet', 'Supplies', '>', 'Birds', '>', 'Cages', '&', 'Accessories', '>', 'Bird', 'Baths']\n"
   ]
  },
  {
   "cell_type": "code",
   "execution_count": 3,
   "metadata": {},
   "outputs": [
    {
     "ename": "NameError",
     "evalue": "name 'a' is not defined",
     "output_type": "error",
     "traceback": [
      "\u001b[0;31m---------------------------------------------------------------------------\u001b[0m",
      "\u001b[0;31mNameError\u001b[0m                                 Traceback (most recent call last)",
      "\u001b[0;32m<ipython-input-3-bca0e2660b9f>\u001b[0m in \u001b[0;36m<module>\u001b[0;34m()\u001b[0m\n\u001b[0;32m----> 1\u001b[0;31m \u001b[0mprint\u001b[0m\u001b[0;34m(\u001b[0m\u001b[0ma\u001b[0m\u001b[0;34m)\u001b[0m\u001b[0;34m\u001b[0m\u001b[0m\n\u001b[0m",
      "\u001b[0;31mNameError\u001b[0m: name 'a' is not defined"
     ]
    }
   ],
   "source": [
    "print(a)"
   ]
  },
  {
   "cell_type": "code",
   "execution_count": 4,
   "metadata": {},
   "outputs": [],
   "source": [
    "a = ['Patio,', 'Lawn', '&', 'Garden', '(See', 'Top', '100', 'Patio,', 'Lawn', '&', 'Garden)', 'Pet', 'Supplies', '>', 'Birds', '>', 'Cages', '&', 'Accessories', '>', 'Bird', 'Baths']"
   ]
  },
  {
   "cell_type": "code",
   "execution_count": 7,
   "metadata": {},
   "outputs": [
    {
     "name": "stdout",
     "output_type": "stream",
     "text": [
      "['Patio,', 'Lawn', '&', 'Garden', '(See', 'Top', '100', 'Patio,', 'Lawn', '&', 'Garden)', 'Pet', 'Supplies', '>', 'Birds', '>', 'Cages', '&', 'Accessories', '>', 'Bird', 'Baths']\n"
     ]
    }
   ],
   "source": [
    "print(a)\n",
    "temp = None"
   ]
  },
  {
   "cell_type": "code",
   "execution_count": 11,
   "metadata": {},
   "outputs": [],
   "source": [
    "for i in range(len(a)):\n",
    "    for j in a[i]:\n",
    "        if j == \"(\":\n",
    "            temp = i\n",
    "            break\n",
    "        if temp is not None:\n",
    "            break\n",
    "    "
   ]
  },
  {
   "cell_type": "code",
   "execution_count": 12,
   "metadata": {},
   "outputs": [
    {
     "name": "stdout",
     "output_type": "stream",
     "text": [
      "4\n"
     ]
    }
   ],
   "source": [
    "print(temp)"
   ]
  },
  {
   "cell_type": "code",
   "execution_count": 13,
   "metadata": {},
   "outputs": [
    {
     "name": "stdout",
     "output_type": "stream",
     "text": [
      "(See\n"
     ]
    }
   ],
   "source": [
    "print(a[temp])"
   ]
  }
 ],
 "metadata": {
  "kernelspec": {
   "display_name": "Python 3",
   "language": "python",
   "name": "python3"
  },
  "language_info": {
   "codemirror_mode": {
    "name": "ipython",
    "version": 3
   },
   "file_extension": ".py",
   "mimetype": "text/x-python",
   "name": "python",
   "nbconvert_exporter": "python",
   "pygments_lexer": "ipython3",
   "version": "3.5.2"
  }
 },
 "nbformat": 4,
 "nbformat_minor": 2
}
